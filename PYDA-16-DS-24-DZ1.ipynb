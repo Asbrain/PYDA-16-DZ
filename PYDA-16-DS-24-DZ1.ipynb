{
 "cells": [
  {
   "cell_type": "code",
   "execution_count": 3,
   "metadata": {},
   "outputs": [
    {
     "name": "stdout",
     "output_type": "stream",
     "text": [
      "Фраза 1 длиннее Фразы 2\n"
     ]
    }
   ],
   "source": [
    "#Задача 1\n",
    "phrase_1 = 'Насколько проще было бы писать программы, если бы не заказчики'\n",
    "phrase_2 = '640Кб должно хватить для любых задач. Билл Гейтс (по легенде)'\n",
    "if len(phrase_1) > len(phrase_2):\n",
    "    print('Фраза 1 длиннее фразы 2')\n",
    "elif:\n",
    "    len(phrase_1) < len(phrase_2):\n",
    "    print('Фраза 2 длиннее фразы 1')\n",
    "else:\n",
    "    print('Фразы равной длины')"
   ]
  },
  {
   "cell_type": "code",
   "execution_count": 12,
   "metadata": {},
   "outputs": [
    {
     "name": "stdout",
     "output_type": "stream",
     "text": [
      "Високосный год\n"
     ]
    }
   ],
   "source": [
    "#Задача 2\n",
    "year = 2020\n",
    "if year % 4 == 0:\n",
    "    print('Високосный год')\n",
    "else:\n",
    "    print('Обычный год')"
   ]
  },
  {
   "cell_type": "code",
   "execution_count": 58,
   "metadata": {},
   "outputs": [
    {
     "name": "stdout",
     "output_type": "stream",
     "text": [
      "Введите день: 12\n",
      "Введите месяц: Декабрь\n",
      "Ваш знак зодиака: Стрелец\n"
     ]
    }
   ],
   "source": [
    "#Задача 3\n",
    "day_input = int(input('Введите день: '))\n",
    "month_input = input('Введите месяц: ')\n",
    "#непонятно как лучше оформлять, раздельно или все в одну строчку\n",
    "if (\n",
    "    (22 <= day_input <= 31) \n",
    "        and (month_input == 'Декабрь')\n",
    "        ) or (\n",
    "        (1 <= day_input <= 19) \n",
    "        and (month_input == 'Январь')\n",
    "        ):\n",
    "    zodiac = 'Козерог'\n",
    "    print('Ваш знак зодиака: ' + zodiac)\n",
    "elif ((20 <= day_input <= 31) and (month_input == 'Январь')) or ((1 <= day_input <= 20) and (month_input == 'Февраль')):\n",
    "    zodiac = 'Водолей'\n",
    "    print('Ваш знак зодиака: ' + zodiac)\n",
    "elif ((20 <= day_input <= 29) and (month_input == 'Февраль')) or ((1 <= day_input <= 21) and (month_input == 'Март')):\n",
    "    zodiac = 'Рыбы'\n",
    "    print('Ваш знак зодиака: ' + zodiac)\n",
    "elif ((22 <= day_input <= 31) and (month_input == 'Март')) or ((1 <= day_input <= 21) and (month_input == 'Апрель')):\n",
    "    zodiac = 'Овен'\n",
    "    print('Ваш знак зодиака: ' + zodiac)\n",
    "elif ((22 <= day_input <= 30) and (month_input == 'Апрель')) or ((1 <= day_input <= 21) and (month_input == 'Май')):\n",
    "    zodiac = 'Телец'\n",
    "    print('Ваш знак зодиака: ' + zodiac)\n",
    "elif ((22 <= day_input <= 31) and (month_input == 'Май')) or ((1 <= day_input <= 21) and (month_input == 'Июнь')):\n",
    "    zodiac = 'Близнецы'\n",
    "    print('Ваш знак зодиака: ' + zodiac)\n",
    "elif ((22 <= day_input <= 30) and (month_input == 'Июнь')) or ((1 <= day_input <= 21) and (month_input == 'Июль')):\n",
    "    zodiac = 'Рак'\n",
    "    print('Ваш знак зодиака: ' + zodiac)\n",
    "elif ((22 <= day_input <= 31) and (month_input == 'Июль')) or ((1 <= day_input <= 21) and (month_input == 'Август')):\n",
    "    zodiac = 'Лев'\n",
    "    print('Ваш знак зодиака: ' + zodiac)\n",
    "elif ((22 <= day_input <= 31) and (month_input == 'Август')) or ((1 <= day_input <= 21) and (month_input == 'Сентябрь')):\n",
    "    zodiac = 'Дева'\n",
    "    print('Ваш знак зодиака: ' + zodiac)\n",
    "elif ((22 <= day_input <= 31) and (month_input == 'Сентябрь')) or ((1 <= day_input <= 21) and (month_input == 'Октябрь')):\n",
    "    zodiac = 'Весы'\n",
    "    print('Ваш знак зодиака: ' + zodiac)\n",
    "elif ((22 <= day_input <= 31) and (month_input == 'Октябрь')) or ((1 <= day_input <= 20) and (month_input == 'Ноябрь')):\n",
    "    zodiac = 'Скорпион'\n",
    "    print('Ваш знак зодиака: ' + zodiac)\n",
    "elif ((21 <= day_input <= 30) and (month_input == 'Ноябрь')) or ((1 <= day_input <= 21) and (month_input == 'Декабрь')):\n",
    "    zodiac = 'Стрелец'\n",
    "    print('Ваш знак зодиака: ' + zodiac)\n",
    "else:    \n",
    "    print('Да быть такого не может!')"
   ]
  },
  {
   "cell_type": "code",
   "execution_count": 72,
   "metadata": {},
   "outputs": [
    {
     "name": "stdout",
     "output_type": "stream",
     "text": [
      "Введите ширину товара в сантиметрах: 12\n",
      "Введите длину товара в сантиметрах: 12\n",
      "Введите высоту товара в сантиметрах: 12\n",
      "Коробка №1\n"
     ]
    }
   ],
   "source": [
    "#Задача 4\n",
    "width = int(input('Введите ширину товара в сантиметрах: '))\n",
    "length = int(input('Введите длину товара в сантиметрах: '))\n",
    "height = int(input('Введите высоту товара в сантиметрах: '))\n",
    "if (width < 15) and (length < 15) and (height < 15):\n",
    "    print('Коробка №1')\n",
    "elif (15 < width < 50) or (15 < length < 50) or (15 < height < 50):\n",
    "    print('Коробка №2')\n",
    "elif length > 200:\n",
    "    print('Упаковка для лыж')\n",
    "else:\n",
    "    print('Стандартная коробка №3')"
   ]
  },
  {
   "cell_type": "code",
   "execution_count": 107,
   "metadata": {},
   "outputs": [
    {
     "name": "stdout",
     "output_type": "stream",
     "text": [
      "Введите номер билета: 123456\n",
      "Неасчастливый билет\n"
     ]
    }
   ],
   "source": [
    "#Задача 5\n",
    "TicketNumber = int(input('Введите номер билета: '))\n",
    "#Вычисляем первое число\n",
    "first_digit = TicketNumber // 100000\n",
    "#Вычисляем второе число\n",
    "second_digit = (TicketNumber // 10000) % 10\n",
    "#Вычисляем третье число\n",
    "third_digit = (TicketNumber // 1000) % 10\n",
    "#Вычисляем сумму первых трех чисел\n",
    "first_half_sum = first_digit + second_digit + third_digit\n",
    "#Вычисляем четвертое число\n",
    "forth_digit = (TicketNumber % 1000) // 100\n",
    "#Вычисляем пятое число\n",
    "fifth_digit = (TicketNumber % 100) // 10\n",
    "#Вычисляем шестое число\n",
    "sixth_digit = TicketNumber % 10\n",
    "#Вычисляем сумму последних трех чисел\n",
    "second_half_sum = forth_digit + fifth_digit + sixth_digit\n",
    "if first_half_sum == second_half_sum:\n",
    "    print('Счастливый билет')\n",
    "else:\n",
    "    print('Неасчастливый билет')\n",
    "    "
   ]
  },
  {
   "cell_type": "code",
   "execution_count": 128,
   "metadata": {},
   "outputs": [
    {
     "name": "stdout",
     "output_type": "stream",
     "text": [
      "Введите тип  фигуры: прямоугольник\n",
      "Введите длину стороны A: 2\n",
      "Введите длину стороны Б: 3\n",
      "6\n"
     ]
    }
   ],
   "source": [
    "#Задача 6\n",
    "FigureType = input('Введите тип  фигуры: ')\n",
    "#на всякий случай понижаем кейс чтобы проще было сопоставлять слова\n",
    "ChosenFigureType = FigureType.lower()\n",
    "if ChosenFigureType == 'круг':\n",
    "    Radius = int(input('Введите радиус круга: '))\n",
    "    RoundSquare = 3.14 * Radius\n",
    "    print ('Площадь круга: ' + str(Square))\n",
    "elif ChosenFigureType == 'треугольник':\n",
    "    length_a = int(input('Введите длину стороны A: '))\n",
    "    length_b = int(input('Введите длину стороны Б: '))\n",
    "    length_c = int(input('Введите длину стороны С: '))\n",
    "    p = (length_a + length_b + length_c) / 2\n",
    "    TriangleSquare = round(((p * (p - length_a) * (p - length_b) * (p - length_c)) ** 0.5), 2)\n",
    "    print (TriangleSquare)\n",
    "elif ChosenFigureType == 'прямоугольник':\n",
    "    length_a = int(input('Введите длину стороны A: '))\n",
    "    length_b = int(input('Введите длину стороны Б: '))\n",
    "    RectangleSquare = round((length_a * length_b), 2)\n",
    "    print (RectangleSquare)    \n",
    "else:\n",
    "    print('Введен некорректный тип фигуры, попробуйте еще раз')"
   ]
  }
 ],
 "metadata": {
  "kernelspec": {
   "display_name": "Python 3",
   "language": "python",
   "name": "python3"
  },
  "language_info": {
   "codemirror_mode": {
    "name": "ipython",
    "version": 3
   },
   "file_extension": ".py",
   "mimetype": "text/x-python",
   "name": "python",
   "nbconvert_exporter": "python",
   "pygments_lexer": "ipython3",
   "version": "3.8.3"
  }
 },
 "nbformat": 4,
 "nbformat_minor": 4
}
