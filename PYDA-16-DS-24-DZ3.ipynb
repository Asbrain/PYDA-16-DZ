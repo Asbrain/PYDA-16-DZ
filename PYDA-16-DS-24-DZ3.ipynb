{
 "cells": [
  {
   "cell_type": "code",
   "execution_count": null,
   "metadata": {},
   "outputs": [],
   "source": [
    "#1 Дана переменная, в которой хранится словарь, содержащий гео-метки для каждого пользователя (пример структуры данных приведен ниже). Вам необходимо написать программу, которая выведет на экран множество уникальных гео-меток всех пользователей.\n",
    "ids = {'user1': [213, 213, 213, 15, 213], \n",
    "       'user2': [54, 54, 119, 119, 119], \n",
    "       'user3': [213, 98, 98, 35]}\n",
    "ids_new = [] # создаем список в который запишем все значения геометок из словаря\n",
    "for x in ids:\n",
    "    ids_new += ids[x]\n",
    "print(set(ids_new)) # переведем список в сет чтобы исключить дубли"
   ]
  },
  {
   "cell_type": "code",
   "execution_count": null,
   "metadata": {},
   "outputs": [],
   "source": [
    "#2 Дана переменная, в которой хранится список поисковых запросов пользователя (пример структуры данных приведен ниже). Вам необходимо написать программу, которая выведет на экран распределение количества слов в запросах в требуемом виде.\n",
    "queries = [\n",
    "    'смотреть сериалы онлайн',\n",
    "    'новости спорта',\n",
    "    'афиша кино',\n",
    "    'курс доллара',\n",
    "    'сериалы этим летом',\n",
    "    'курс по питону',\n",
    "    'сериалы про спорт',\n",
    "]\n",
    "space_numbers = [] # обьявляем список куда будем вносить разбитые на слова элементы начального списка \n",
    "word_count_list = {} # обьявляем пустой словарь куда будет вноситься парно количество слов в элементе списка и сколько раз встречается такое количество слов\n",
    "elem2 = 0 # переменная для обозначения первого элемента первоначального списка для использования в цикле\n",
    "dict1 = 0 # переменная для подсчета сколько раз встречается такое количество слов \n",
    "for elem1 in queries:\n",
    "    space_numbers = queries[elem2].split(' ') # разделяем элемент первоначального списка на слова и записываем в отдельный список чтобы посчитать количество слов\n",
    "    dict1 = len(space_numbers) # считаем количество слов \n",
    "    if dict1 in word_count_list: # проверяем если такое количество слов уже есть в словаре то добавляем в значение\n",
    "        word_count_list[dict1] += 1\n",
    "    else: # если такого количества слов еще нет в коллекции то добавляем ключ и значение равное 1\n",
    "        word_count_list[dict1] = 1\n",
    "    elem2 += 1\n",
    "for key1, value1 in sorted(word_count_list.items()): # сортируем коллекцию чтобы было как в примере\n",
    "    print(f\"Поисковых запросов, содержащих {key1} слов(а): {round(((value1 / elem2) * 100), 2)}%\")"
   ]
  },
  {
   "cell_type": "code",
   "execution_count": 1,
   "metadata": {},
   "outputs": [
    {
     "data": {
      "text/plain": [
       "{'vk': {'ROI': 5.1, 'cost': 98, 'revenue': 103},\n",
       " 'yandex': {'ROI': 16.99, 'cost': 153, 'revenue': 179},\n",
       " 'facebook': {'ROI': -6.36, 'cost': 110, 'revenue': 103},\n",
       " 'adwords': {'ROI': 2.94, 'cost': 34, 'revenue': 35},\n",
       " 'twitter': {'ROI': -54.17, 'cost': 24, 'revenue': 11}}"
      ]
     },
     "execution_count": 1,
     "metadata": {},
     "output_type": "execute_result"
    }
   ],
   "source": [
    "#3 Дана переменная, в которой хранится информация о затратах и доходе рекламных кампаний по различным источникам. Необходимо дополнить исходную структуру показателем ROI, который рассчитаем по формуле: (revenue / cost - 1) * 100\n",
    "results = {\n",
    "    'vk': {'revenue': 103, 'cost': 98},\n",
    "    'yandex': {'revenue': 179, 'cost': 153},\n",
    "    'facebook': {'revenue': 103, 'cost': 110},\n",
    "    'adwords': {'revenue': 35, 'cost': 34},\n",
    "    'twitter': {'revenue': 11, 'cost': 24},\n",
    "}\n",
    "roi_result_dict = {}\n",
    "keys_list = []\n",
    "values_list = []\n",
    "for keyz, valuez in results.items():\n",
    "    roi = round((((valuez['revenue'] / valuez['cost']) - 1) * 100), 2)\n",
    "    keys_list = ['ROI', 'cost', 'revenue']\n",
    "    values_list = [roi, valuez['cost'], valuez['revenue']]\n",
    "    roi_result_dict[keyz] = dict(zip(keys_list, values_list))\n",
    "roi_result_dict"
   ]
  },
  {
   "cell_type": "code",
   "execution_count": 4,
   "metadata": {},
   "outputs": [
    {
     "name": "stdout",
     "output_type": "stream",
     "text": [
      "Максимальный объем продаж на рекламном канале: vk\n"
     ]
    }
   ],
   "source": [
    "#4 Дана переменная, в которой хранится статистика рекламных каналов по объемам продаж (пример структуры данных приведен ниже). Напишите программу, которая возвращает название канала с максимальным объемом продаж.\n",
    "stats = {'facebook': 55, 'yandex': 115, 'vk': 120, 'google': 99, 'email': 42, 'ok': 98}\n",
    "max_sales = 0\n",
    "for names, sales in stats.items():\n",
    "    if sales > max_sales:\n",
    "        max_sales = sales\n",
    "        max_name = names\n",
    "print(f\"Максимальный объем продаж на рекламном канале: {max_name}\")"
   ]
  }
 ],
 "metadata": {
  "kernelspec": {
   "display_name": "Python 3",
   "language": "python",
   "name": "python3"
  },
  "language_info": {
   "codemirror_mode": {
    "name": "ipython",
    "version": 3
   },
   "file_extension": ".py",
   "mimetype": "text/x-python",
   "name": "python",
   "nbconvert_exporter": "python",
   "pygments_lexer": "ipython3",
   "version": "3.8.3"
  }
 },
 "nbformat": 4,
 "nbformat_minor": 4
}
